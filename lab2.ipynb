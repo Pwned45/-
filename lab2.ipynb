{
  "nbformat": 4,
  "nbformat_minor": 0,
  "metadata": {
    "colab": {
      "name": "lab2.ipynb",
      "provenance": [],
      "collapsed_sections": []
    },
    "kernelspec": {
      "name": "python3",
      "display_name": "Python 3"
    },
    "language_info": {
      "name": "python"
    }
  },
  "cells": [
    {
      "cell_type": "code",
      "metadata": {
        "id": "JoOjwQ8YhtDn"
      },
      "source": [
        "import numpy as np\n",
        "import pandas as pd\n",
        "import matplotlib.pyplot as plt"
      ],
      "execution_count": 43,
      "outputs": []
    },
    {
      "cell_type": "code",
      "metadata": {
        "colab": {
          "base_uri": "https://localhost:8080/"
        },
        "id": "wZNxVQERhxNR",
        "outputId": "a5870946-824c-44d7-9957-72eaeaa7191a"
      },
      "source": [
        "from google.colab import drive\n",
        "drive.mount('/content/drive')"
      ],
      "execution_count": 44,
      "outputs": [
        {
          "output_type": "stream",
          "name": "stdout",
          "text": [
            "Drive already mounted at /content/drive; to attempt to forcibly remount, call drive.mount(\"/content/drive\", force_remount=True).\n"
          ]
        }
      ]
    },
    {
      "cell_type": "code",
      "metadata": {
        "colab": {
          "base_uri": "https://localhost:8080/"
        },
        "id": "IWA7evQBhzQM",
        "outputId": "0453cee4-6f41-43ff-dfd8-f37db96b46e0"
      },
      "source": [
        "df = pd.read_csv('drive/MyDrive/ColabNotebooks/milk.csv', sep=\";\", encoding='windows-1251', skipinitialspace=True)\n",
        "#df['milk'] = df['milk'].apply(lambda x: x.replace(',','.'))\n",
        "df['milk'] = pd.to_numeric(df['milk'],errors = 'ignore')\n",
        "df.info()"
      ],
      "execution_count": 45,
      "outputs": [
        {
          "output_type": "stream",
          "name": "stdout",
          "text": [
            "<class 'pandas.core.frame.DataFrame'>\n",
            "RangeIndex: 168 entries, 0 to 167\n",
            "Data columns (total 1 columns):\n",
            " #   Column  Non-Null Count  Dtype\n",
            "---  ------  --------------  -----\n",
            " 0   milk    168 non-null    int64\n",
            "dtypes: int64(1)\n",
            "memory usage: 1.4 KB\n"
          ]
        }
      ]
    },
    {
      "cell_type": "code",
      "metadata": {
        "colab": {
          "base_uri": "https://localhost:8080/",
          "height": 419
        },
        "id": "iwkg3R8UiB0h",
        "outputId": "3a9a5fd2-b460-4d13-cde4-62fdde844bcb"
      },
      "source": [
        "df"
      ],
      "execution_count": 46,
      "outputs": [
        {
          "output_type": "execute_result",
          "data": {
            "text/html": [
              "<div>\n",
              "<style scoped>\n",
              "    .dataframe tbody tr th:only-of-type {\n",
              "        vertical-align: middle;\n",
              "    }\n",
              "\n",
              "    .dataframe tbody tr th {\n",
              "        vertical-align: top;\n",
              "    }\n",
              "\n",
              "    .dataframe thead th {\n",
              "        text-align: right;\n",
              "    }\n",
              "</style>\n",
              "<table border=\"1\" class=\"dataframe\">\n",
              "  <thead>\n",
              "    <tr style=\"text-align: right;\">\n",
              "      <th></th>\n",
              "      <th>milk</th>\n",
              "    </tr>\n",
              "  </thead>\n",
              "  <tbody>\n",
              "    <tr>\n",
              "      <th>0</th>\n",
              "      <td>589</td>\n",
              "    </tr>\n",
              "    <tr>\n",
              "      <th>1</th>\n",
              "      <td>561</td>\n",
              "    </tr>\n",
              "    <tr>\n",
              "      <th>2</th>\n",
              "      <td>640</td>\n",
              "    </tr>\n",
              "    <tr>\n",
              "      <th>3</th>\n",
              "      <td>656</td>\n",
              "    </tr>\n",
              "    <tr>\n",
              "      <th>4</th>\n",
              "      <td>727</td>\n",
              "    </tr>\n",
              "    <tr>\n",
              "      <th>...</th>\n",
              "      <td>...</td>\n",
              "    </tr>\n",
              "    <tr>\n",
              "      <th>163</th>\n",
              "      <td>858</td>\n",
              "    </tr>\n",
              "    <tr>\n",
              "      <th>164</th>\n",
              "      <td>817</td>\n",
              "    </tr>\n",
              "    <tr>\n",
              "      <th>165</th>\n",
              "      <td>827</td>\n",
              "    </tr>\n",
              "    <tr>\n",
              "      <th>166</th>\n",
              "      <td>797</td>\n",
              "    </tr>\n",
              "    <tr>\n",
              "      <th>167</th>\n",
              "      <td>843</td>\n",
              "    </tr>\n",
              "  </tbody>\n",
              "</table>\n",
              "<p>168 rows × 1 columns</p>\n",
              "</div>"
            ],
            "text/plain": [
              "     milk\n",
              "0     589\n",
              "1     561\n",
              "2     640\n",
              "3     656\n",
              "4     727\n",
              "..    ...\n",
              "163   858\n",
              "164   817\n",
              "165   827\n",
              "166   797\n",
              "167   843\n",
              "\n",
              "[168 rows x 1 columns]"
            ]
          },
          "metadata": {},
          "execution_count": 46
        }
      ]
    },
    {
      "cell_type": "code",
      "metadata": {
        "id": "aJpPukMcoWRK",
        "colab": {
          "base_uri": "https://localhost:8080/",
          "height": 419
        },
        "outputId": "344af8b8-b3dc-443f-be8e-5518550d017e"
      },
      "source": [
        "# Добавление меток месяцев\n",
        "rows_in_df = 168\n",
        "date_list = []\n",
        "for i in range(1, rows_in_df + 1):\n",
        "  date_list.append(i)\n",
        "df['date'] = date_list\n",
        "df"
      ],
      "execution_count": 47,
      "outputs": [
        {
          "output_type": "execute_result",
          "data": {
            "text/html": [
              "<div>\n",
              "<style scoped>\n",
              "    .dataframe tbody tr th:only-of-type {\n",
              "        vertical-align: middle;\n",
              "    }\n",
              "\n",
              "    .dataframe tbody tr th {\n",
              "        vertical-align: top;\n",
              "    }\n",
              "\n",
              "    .dataframe thead th {\n",
              "        text-align: right;\n",
              "    }\n",
              "</style>\n",
              "<table border=\"1\" class=\"dataframe\">\n",
              "  <thead>\n",
              "    <tr style=\"text-align: right;\">\n",
              "      <th></th>\n",
              "      <th>milk</th>\n",
              "      <th>date</th>\n",
              "    </tr>\n",
              "  </thead>\n",
              "  <tbody>\n",
              "    <tr>\n",
              "      <th>0</th>\n",
              "      <td>589</td>\n",
              "      <td>1</td>\n",
              "    </tr>\n",
              "    <tr>\n",
              "      <th>1</th>\n",
              "      <td>561</td>\n",
              "      <td>2</td>\n",
              "    </tr>\n",
              "    <tr>\n",
              "      <th>2</th>\n",
              "      <td>640</td>\n",
              "      <td>3</td>\n",
              "    </tr>\n",
              "    <tr>\n",
              "      <th>3</th>\n",
              "      <td>656</td>\n",
              "      <td>4</td>\n",
              "    </tr>\n",
              "    <tr>\n",
              "      <th>4</th>\n",
              "      <td>727</td>\n",
              "      <td>5</td>\n",
              "    </tr>\n",
              "    <tr>\n",
              "      <th>...</th>\n",
              "      <td>...</td>\n",
              "      <td>...</td>\n",
              "    </tr>\n",
              "    <tr>\n",
              "      <th>163</th>\n",
              "      <td>858</td>\n",
              "      <td>164</td>\n",
              "    </tr>\n",
              "    <tr>\n",
              "      <th>164</th>\n",
              "      <td>817</td>\n",
              "      <td>165</td>\n",
              "    </tr>\n",
              "    <tr>\n",
              "      <th>165</th>\n",
              "      <td>827</td>\n",
              "      <td>166</td>\n",
              "    </tr>\n",
              "    <tr>\n",
              "      <th>166</th>\n",
              "      <td>797</td>\n",
              "      <td>167</td>\n",
              "    </tr>\n",
              "    <tr>\n",
              "      <th>167</th>\n",
              "      <td>843</td>\n",
              "      <td>168</td>\n",
              "    </tr>\n",
              "  </tbody>\n",
              "</table>\n",
              "<p>168 rows × 2 columns</p>\n",
              "</div>"
            ],
            "text/plain": [
              "     milk  date\n",
              "0     589     1\n",
              "1     561     2\n",
              "2     640     3\n",
              "3     656     4\n",
              "4     727     5\n",
              "..    ...   ...\n",
              "163   858   164\n",
              "164   817   165\n",
              "165   827   166\n",
              "166   797   167\n",
              "167   843   168\n",
              "\n",
              "[168 rows x 2 columns]"
            ]
          },
          "metadata": {},
          "execution_count": 47
        }
      ]
    },
    {
      "cell_type": "code",
      "metadata": {
        "colab": {
          "base_uri": "https://localhost:8080/",
          "height": 279
        },
        "id": "87luxFQYg32C",
        "outputId": "76da0769-a124-45fc-cb1e-0276c2194107"
      },
      "source": [
        "# График исходных данных\n",
        "\n",
        "plt.scatter(df['date'],df['milk'], alpha=0.75)\n",
        "\n",
        "plt.xlabel('month')\n",
        "plt.ylabel('milk')\n",
        "plt.show()"
      ],
      "execution_count": 48,
      "outputs": [
        {
          "output_type": "display_data",
          "data": {
            "image/png": "[encoded data removed]",
            "text/plain": [
              "<Figure size 432x288 with 1 Axes>"
            ]
          },
          "metadata": {
            "needs_background": "light"
          }
        }
      ]
    },
    {
      "cell_type": "code",
      "metadata": {
        "colab": {
          "base_uri": "https://localhost:8080/",
          "height": 279
        },
        "id": "UnhHYRBC39Ub",
        "outputId": "8467d221-673f-4489-e9b5-727d2e8ff018"
      },
      "source": [
        "# Линия тренда\n",
        "x = df['date']\n",
        "y = df['milk']\n",
        "plt.scatter(x, y)\n",
        "\n",
        "z = np.polyfit(x, y, 1)\n",
        "p = np.poly1d(z)\n",
        "plt.plot(x,p(x),\"r--\")\n",
        "plt.xlabel('month')\n",
        "plt.ylabel('milk')\n",
        "\n",
        "plt.show()"
      ],
      "execution_count": 49,
      "outputs": [
        {
          "output_type": "display_data",
          "data": {
            "image/png": "[encoded data removed]",
            "text/plain": [
              "<Figure size 432x288 with 1 Axes>"
            ]
          },
          "metadata": {
            "needs_background": "light"
          }
        }
      ]
    },
    {
      "cell_type": "code",
      "metadata": {
        "colab": {
          "base_uri": "https://localhost:8080/"
        },
        "id": "UTwhI4f4t-XL",
        "outputId": "01606e9a-d21d-458e-ea78-cd6385453f9c"
      },
      "source": [
        "# Построение модели регрессии\n",
        "from sklearn.linear_model import LinearRegression\n",
        "lr = LinearRegression()\n",
        "y = df.iloc[:,:-1].values\n",
        "X = df.iloc[:,1:].values\n",
        "\n",
        "lr.fit(X, y)\n"
      ],
      "execution_count": 50,
      "outputs": [
        {
          "output_type": "execute_result",
          "data": {
            "text/plain": [
              "LinearRegression(copy_X=True, fit_intercept=True, n_jobs=None, normalize=False)"
            ]
          },
          "metadata": {},
          "execution_count": 50
        }
      ]
    },
    {
      "cell_type": "code",
      "metadata": {
        "colab": {
          "base_uri": "https://localhost:8080/",
          "height": 279
        },
        "id": "uQTOw0Ir2U9q",
        "outputId": "086a9cf6-c8a8-489a-8cc7-05db830681f5"
      },
      "source": [
        "# Пример сезонности за 1 год.\n",
        "plt.scatter(X[ :12], y[ :12]);\n",
        "\n",
        "plt.xlabel('month')\n",
        "plt.ylabel('milk')\n",
        "plt.show()"
      ],
      "execution_count": 62,
      "outputs": [
        {
          "output_type": "display_data",
          "data": {
            "image/png": "[encoded data removed]",
            "text/plain": [
              "<Figure size 432x288 with 1 Axes>"
            ]
          },
          "metadata": {
            "needs_background": "light"
          }
        }
      ]
    },
    {
      "cell_type": "code",
      "metadata": {
        "colab": {
          "base_uri": "https://localhost:8080/",
          "height": 279
        },
        "id": "RprJd-T1hdVy",
        "outputId": "47653969-1203-4336-8973-ae9adc6795f7"
      },
      "source": [
        "# Регрессия\n",
        "y_lr = lr.predict(X)\n",
        "\n",
        "plt.scatter(X, y);\n",
        "plt.plot (X, y_lr, 'r');\n",
        "\n",
        "plt.xlabel('month')\n",
        "plt.ylabel('milk')\n",
        "plt.show()"
      ],
      "execution_count": 52,
      "outputs": [
        {
          "output_type": "display_data",
          "data": {
            "image/png": "[encoded data removed]",
            "text/plain": [
              "<Figure size 432x288 with 1 Axes>"
            ]
          },
          "metadata": {
            "needs_background": "light"
          }
        }
      ]
    },
    {
      "cell_type": "code",
      "metadata": {
        "id": "VT0fXEaShj-i"
      },
      "source": [
        "# Продление массива на 8 месяцев для создания предсказания\n",
        "date_list = []\n",
        "for i in range(169, 177):\n",
        "  date_list.append(i)\n",
        "z = np.concatenate((X, np.array(date_list).reshape(-1,1)), axis=0)"
      ],
      "execution_count": 53,
      "outputs": []
    },
    {
      "cell_type": "code",
      "metadata": {
        "colab": {
          "base_uri": "https://localhost:8080/",
          "height": 279
        },
        "id": "tqkk5ZKo93yI",
        "outputId": "104eb5d6-39c7-4b72-b84a-3c0efbe3f739"
      },
      "source": [
        "# Предсказание продаж\n",
        "y_lr = lr.predict(z)\n",
        "\n",
        "plt.scatter(X, y);\n",
        "plt.plot (z, y_lr, 'r');\n",
        "\n",
        "plt.xlabel('month')\n",
        "plt.ylabel('milk')\n",
        "\n",
        "plt.show()"
      ],
      "execution_count": 54,
      "outputs": [
        {
          "output_type": "display_data",
          "data": {
            "image/png": "[encoded data removed]",
            "text/plain": [
              "<Figure size 432x288 with 1 Axes>"
            ]
          },
          "metadata": {
            "needs_background": "light"
          }
        }
      ]
    },
    {
      "cell_type": "code",
      "metadata": {
        "id": "-N5X5xEjojzz",
        "colab": {
          "base_uri": "https://localhost:8080/"
        },
        "outputId": "cf015ef2-bbb9-4587-b370-44d4c320d6a5"
      },
      "source": [
        "#Продажи на прогназируемый период\n",
        "print(y_lr[-8:])"
      ],
      "execution_count": 55,
      "outputs": [
        {
          "output_type": "stream",
          "name": "stdout",
          "text": [
            "[[897.73431708]\n",
            " [899.42693227]\n",
            " [901.11954746]\n",
            " [902.81216266]\n",
            " [904.50477785]\n",
            " [906.19739304]\n",
            " [907.89000823]\n",
            " [909.58262343]]\n"
          ]
        }
      ]
    },
    {
      "cell_type": "code",
      "metadata": {
        "id": "rO87q2kEwDsS"
      },
      "source": [
        "\n"
      ],
      "execution_count": 55,
      "outputs": []
    },
    {
      "cell_type": "code",
      "metadata": {
        "id": "gnsyJwGA3G2W"
      },
      "source": [
        "# import matplotlib.pyplot as plt\n",
        "# from matplotlib.dates import (DAILY, DateFormatter,\n",
        "#                               rrulewrapper, RRuleLocator, drange)\n",
        "# import datetime\n",
        "\n",
        "# date = datetime.datetime(2020, 2, 20)\n",
        "# date += datetime.timedelta(days=1)\n",
        "# print(date)\n",
        "\n",
        "# rule = rrulewrapper(DAILY, interval=15)\n",
        "# loc = RRuleLocator(rule)\n",
        "# formatter = DateFormatter('%d/%m/%y')\n",
        "\n",
        "# date1 = datetime.date(2000, 2, 1)\n",
        "# date2 = datetime.date(2000, 8, 1)\n",
        "\n",
        "# delta = datetime.timedelta(days=30)\n",
        "# dates = drange(date1, date2, delta)\n",
        "# dates\n",
        "\n",
        "\n",
        "\n",
        "# y_axis = np.arange( len(dates) )\n",
        "  \n",
        "# fig, ax = plt.subplots()\n",
        "# ax.plot_date(dates, y_axis * y_axis)\n",
        "\n",
        "# ax.xaxis.set_major_locator(loc)\n",
        "# ax.xaxis.set_major_formatter(formatter)\n",
        "# ax.xaxis.set_tick_params(rotation=30, labelsize=10)\n"
      ],
      "execution_count": 56,
      "outputs": []
    },
    {
      "cell_type": "code",
      "metadata": {
        "id": "hbUF-tkrqdW0"
      },
      "source": [
        "# import matplotlib.pyplot as plt\n",
        "# from matplotlib.dates import (MONTHLY, YEARLY, DateFormatter,\n",
        "#                               rrulewrapper, RRuleLocator, drange)\n",
        "# import datetime\n",
        "\n",
        "# # rule = rrulewrapper(YEARLY, byeaster=1, interval=5)\n",
        "# # loc = RRuleLocator(rule)\n",
        "# # formatter = DateFormatter('%d/%m/%y')\n",
        "# # date1 = datetime.date(1952, 1, 1)\n",
        "# # date2 = datetime.date(2004, 4, 12)\n",
        "# # delta = datetime.timedelta(days=100)\n",
        "# # dates = drange(date1, date2, delta)\n",
        "\n",
        "# # s = np.random.rand(len(dates)) \n",
        "\n",
        "# # fig, ax = plt.subplots()\n",
        "# # plt.plot_date(dates, s)\n",
        "# # ax.xaxis.set_major_locator(loc)\n",
        "# # ax.xaxis.set_major_formatter(formatter)\n",
        "# # ax.xaxis.set_tick_params(rotation=30, labelsize=10)\n",
        "\n",
        "# rule = rrulewrapper(MONTHLY, interval=6)\n",
        "# loc = RRuleLocator(rule)\n",
        "# formatter = DateFormatter('%d/%m/%y')\n",
        "\n",
        "# fig, ax = plt.subplots()\n",
        "# plt.plot_date(df['date'],df['sales'])\n",
        "# ax.xaxis.set_major_locator(loc)\n",
        "# ax.xaxis.set_major_formatter(formatter)\n",
        "# ax.xaxis.set_tick_params(rotation=30, labelsize=10)\n",
        "\n",
        "\n",
        "\n",
        "# plt.scatter(df['date'],df['sales'], alpha=0.65)\n",
        "\n",
        "# plt.xlabel('date')\n",
        "# plt.ylabel('sales')\n",
        "# plt.show()\n",
        "\n",
        "# df['date'] = df['date'].apply(lambda x: x.timestamp())"
      ],
      "execution_count": 57,
      "outputs": []
    }
  ]
}